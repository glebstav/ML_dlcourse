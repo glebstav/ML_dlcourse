{
 "cells": [
  {
   "cell_type": "markdown",
   "metadata": {},
   "source": [
    "# Задание 1.2 - Линейный классификатор (Linear classifier)\n",
    "\n",
    "В этом задании мы реализуем другую модель машинного обучения - линейный классификатор. Линейный классификатор подбирает для каждого класса веса, на которые нужно умножить значение каждого признака и потом сложить вместе.\n",
    "Тот класс, у которого эта сумма больше, и является предсказанием модели.\n",
    "\n",
    "В этом задании вы:\n",
    "- потренируетесь считать градиенты различных многомерных функций\n",
    "- реализуете подсчет градиентов через линейную модель и функцию потерь softmax\n",
    "- реализуете процесс тренировки линейного классификатора\n",
    "- подберете параметры тренировки на практике\n",
    "\n",
    "На всякий случай, еще раз ссылка на туториал по numpy:  \n",
    "http://cs231n.github.io/python-numpy-tutorial/"
   ]
  },
  {
   "cell_type": "code",
   "execution_count": 1,
   "metadata": {},
   "outputs": [],
   "source": [
    "import numpy as np\n",
    "import matplotlib.pyplot as plt\n",
    "\n",
    "%matplotlib inline\n",
    "\n",
    "%load_ext autoreload\n",
    "%autoreload 2"
   ]
  },
  {
   "cell_type": "code",
   "execution_count": 2,
   "metadata": {},
   "outputs": [],
   "source": [
    "from dataset import load_svhn, random_split_train_val\n",
    "from gradient_check import check_gradient\n",
    "from metrics import multiclass_accuracy \n",
    "import linear_classifer"
   ]
  },
  {
   "cell_type": "markdown",
   "metadata": {},
   "source": [
    "# Как всегда, первым делом загружаем данные\n",
    "\n",
    "Мы будем использовать все тот же SVHN."
   ]
  },
  {
   "cell_type": "code",
   "execution_count": 16,
   "metadata": {},
   "outputs": [],
   "source": [
    "def prepare_for_linear_classifier(train_X, test_X):\n",
    "    train_flat = train_X.reshape(train_X.shape[0], -1).astype(float) / 255.0\n",
    "    test_flat = test_X.reshape(test_X.shape[0], -1).astype(float) / 255.0\n",
    "    \n",
    "    # Subtract mean\n",
    "    mean_image = np.mean(train_flat, axis = 0)\n",
    "    train_flat -= mean_image\n",
    "    test_flat -= mean_image\n",
    "    \n",
    "    # Add another channel with ones as a bias term\n",
    "    train_flat_with_ones = np.hstack([train_flat, np.ones((train_X.shape[0], 1))])\n",
    "    test_flat_with_ones = np.hstack([test_flat, np.ones((test_X.shape[0], 1))])    \n",
    "    return train_flat_with_ones, test_flat_with_ones\n",
    "    \n",
    "train_X, train_y, test_X, test_y = load_svhn(\"data\", max_train=10000, max_test=1000)    \n",
    "train_X, test_X = prepare_for_linear_classifier(train_X, test_X)\n",
    "# Split train into train and val\n",
    "train_X, train_y, val_X, val_y = random_split_train_val(train_X, train_y, num_val = 1000)"
   ]
  },
  {
   "cell_type": "markdown",
   "metadata": {},
   "source": [
    "# Играемся с градиентами!\n",
    "\n",
    "В этом курсе мы будем писать много функций, которые вычисляют градиенты аналитическим методом.\n",
    "\n",
    "Все функции, в которых мы будем вычислять градиенты, будут написаны по одной и той же схеме.  \n",
    "Они будут получать на вход точку, где нужно вычислить значение и градиент функции, а на выходе будут выдавать кортеж (tuple) из двух значений - собственно значения функции в этой точке (всегда одно число) и аналитического значения градиента в той же точке (той же размерности, что и вход).\n",
    "```\n",
    "def f(x):\n",
    "    \"\"\"\n",
    "    Computes function and analytic gradient at x\n",
    "    \n",
    "    x: np array of float, input to the function\n",
    "    \n",
    "    Returns:\n",
    "    value: float, value of the function \n",
    "    grad: np array of float, same shape as x\n",
    "    \"\"\"\n",
    "    ...\n",
    "    \n",
    "    return value, grad\n",
    "```\n",
    "\n",
    "Необходимым инструментом во время реализации кода, вычисляющего градиенты, является функция его проверки. Эта функция вычисляет градиент численным методом и сверяет результат с градиентом, вычисленным аналитическим методом.\n",
    "\n",
    "Мы начнем с того, чтобы реализовать вычисление численного градиента (numeric gradient) в функции `check_gradient` в `gradient_check.py`. Эта функция будет принимать на вход функции формата, заданного выше, использовать значение `value` для вычисления численного градиента и сравнит его с аналитическим - они должны сходиться.\n",
    "\n",
    "Напишите часть функции, которая вычисляет градиент с помощью численной производной для каждой координаты. Для вычисления производной используйте так называемую two-point formula (https://en.wikipedia.org/wiki/Numerical_differentiation):\n",
    "\n",
    "![image](https://wikimedia.org/api/rest_v1/media/math/render/svg/22fc2c0a66c63560a349604f8b6b39221566236d)\n",
    "\n",
    "Все функции приведенные в следующей клетке должны проходить gradient check."
   ]
  },
  {
   "cell_type": "code",
   "execution_count": 4,
   "metadata": {
    "scrolled": true
   },
   "outputs": [
    {
     "name": "stdout",
     "output_type": "stream",
     "text": [
      "Gradient check passed!\n",
      "Gradient check passed!\n",
      "Gradient check passed!\n"
     ]
    },
    {
     "data": {
      "text/plain": [
       "True"
      ]
     },
     "execution_count": 4,
     "metadata": {},
     "output_type": "execute_result"
    }
   ],
   "source": [
    "# TODO: Implement check_gradient function in gradient_check.py\n",
    "# All the functions below should pass the gradient check\n",
    "\n",
    "def square(x):\n",
    "    return float(x*x), 2*x\n",
    "\n",
    "check_gradient(square, np.array([3.0]))\n",
    "\n",
    "def array_sum(x):\n",
    "    assert x.shape == (2,), x.shape\n",
    "    return np.sum(x), np.ones_like(x)\n",
    "\n",
    "check_gradient(array_sum, np.array([3.0, 2.0]))\n",
    "\n",
    "def array_2d_sum(x):\n",
    "    assert x.shape == (2,2)\n",
    "    return np.sum(x), np.ones_like(x)\n",
    "\n",
    "check_gradient(array_2d_sum, np.array([[3.0, 2.0], [1.0, 0.0]]))"
   ]
  },
  {
   "cell_type": "markdown",
   "metadata": {},
   "source": [
    "## Начинаем писать свои функции, считающие аналитический градиент\n",
    "\n",
    "Теперь реализуем функцию softmax, которая получает на вход оценки для каждого класса и преобразует их в вероятности от 0 до 1:\n",
    "![image](https://wikimedia.org/api/rest_v1/media/math/render/svg/e348290cf48ddbb6e9a6ef4e39363568b67c09d3)\n",
    "\n",
    "**Важно:** Практический аспект вычисления этой функции заключается в том, что в ней учавствует вычисление экспоненты от потенциально очень больших чисел - это может привести к очень большим значениям в числителе и знаменателе за пределами диапазона float.\n",
    "\n",
    "К счастью, у этой проблемы есть простое решение -- перед вычислением softmax вычесть из всех оценок максимальное значение среди всех оценок:\n",
    "```\n",
    "predictions -= np.max(predictions)\n",
    "```\n",
    "(подробнее здесь - http://cs231n.github.io/linear-classify/#softmax, секция `Practical issues: Numeric stability`)"
   ]
  },
  {
   "cell_type": "code",
   "execution_count": 5,
   "metadata": {},
   "outputs": [],
   "source": [
    "# TODO Implement softmax and cross-entropy for single sample\n",
    "probs = linear_classifer.softmax(np.array([-10, 0, 10]))\n",
    "\n",
    "# Make sure it works for big numbers too!\n",
    "probs = linear_classifer.softmax(np.array([1000, 0, 0]))\n",
    "assert np.isclose(probs[0], 1.0)"
   ]
  },
  {
   "cell_type": "markdown",
   "metadata": {},
   "source": [
    "Кроме этого, мы реализуем cross-entropy loss, которую мы будем использовать как функцию ошибки (error function).\n",
    "В общем виде cross-entropy определена следующим образом:\n",
    "![image](https://wikimedia.org/api/rest_v1/media/math/render/svg/0cb6da032ab424eefdca0884cd4113fe578f4293)\n",
    "\n",
    "где x - все классы, p(x) - истинная вероятность принадлежности сэмпла классу x, а q(x) - вероятность принадлежности классу x, предсказанная моделью.  \n",
    "В нашем случае сэмпл принадлежит только одному классу, индекс которого передается функции. Для него p(x) равна 1, а для остальных классов - 0. \n",
    "\n",
    "Это позволяет реализовать функцию проще!"
   ]
  },
  {
   "cell_type": "code",
   "execution_count": 6,
   "metadata": {},
   "outputs": [
    {
     "data": {
      "text/plain": [
       "5.006760443547122"
      ]
     },
     "execution_count": 6,
     "metadata": {},
     "output_type": "execute_result"
    }
   ],
   "source": [
    "probs = linear_classifer.softmax(np.array([-5, 0, 5]))\n",
    "linear_classifer.cross_entropy_loss(probs, 1)"
   ]
  },
  {
   "cell_type": "markdown",
   "metadata": {},
   "source": [
    "После того как мы реализовали сами функции, мы можем реализовать градиент.\n",
    "\n",
    "Оказывается, что вычисление градиента становится гораздо проще, если объединить эти функции в одну, которая сначала вычисляет вероятности через softmax, а потом использует их для вычисления функции ошибки через cross-entropy loss.\n",
    "\n",
    "Эта функция `softmax_with_cross_entropy` будет возвращает и значение ошибки, и градиент по входным параметрам. Мы проверим корректность реализации с помощью `check_gradient`."
   ]
  },
  {
   "cell_type": "code",
   "execution_count": 7,
   "metadata": {},
   "outputs": [
    {
     "name": "stdout",
     "output_type": "stream",
     "text": [
      "Gradient check passed!\n"
     ]
    },
    {
     "data": {
      "text/plain": [
       "True"
      ]
     },
     "execution_count": 7,
     "metadata": {},
     "output_type": "execute_result"
    }
   ],
   "source": [
    "# TODO Implement combined function or softmax and cross entropy and produces gradient\n",
    "loss, grad = linear_classifer.softmax_with_cross_entropy(np.array([1, 0, 0]), 1)\n",
    "check_gradient(lambda x: linear_classifer.softmax_with_cross_entropy(x, 1), np.array([1, 0, 0], float))"
   ]
  },
  {
   "cell_type": "markdown",
   "metadata": {},
   "source": [
    "В качестве метода тренировки мы будем использовать стохастический градиентный спуск (stochastic gradient descent или SGD), который работает с батчами сэмплов. \n",
    "\n",
    "Поэтому все наши фукнции будут получать не один пример, а батч, то есть входом будет не вектор из `num_classes` оценок, а матрица размерности `batch_size, num_classes`. Индекс примера в батче всегда будет первым измерением.\n",
    "\n",
    "Следующий шаг - переписать наши функции так, чтобы они поддерживали батчи.\n",
    "\n",
    "Финальное значение функции ошибки должно остаться числом, и оно равно среднему значению ошибки среди всех примеров в батче."
   ]
  },
  {
   "cell_type": "code",
   "execution_count": 8,
   "metadata": {
    "scrolled": false
   },
   "outputs": [
    {
     "name": "stdout",
     "output_type": "stream",
     "text": [
      "Gradient check passed!\n",
      "Gradient check passed!\n"
     ]
    }
   ],
   "source": [
    "# TODO Extend combined function so it can receive a 2d array with batch of samples\n",
    "np.random.seed(42)\n",
    "# Test batch_size = 1\n",
    "num_classes = 4\n",
    "batch_size = 1\n",
    "predictions = np.random.randint(-1, 3, size=(batch_size, num_classes)).astype(float)\n",
    "target_index = np.random.randint(0, num_classes, size=batch_size).astype(int)\n",
    "check_gradient(lambda x: linear_classifer.softmax_with_cross_entropy(x, target_index), predictions)\n",
    "\n",
    "# Test batch_size = 3\n",
    "num_classes = 4\n",
    "batch_size = 3\n",
    "predictions = np.random.randint(-1, 3, size=(batch_size, num_classes)).astype(float)\n",
    "target_index = np.random.randint(0, num_classes, size=batch_size).astype(int)\n",
    "check_gradient(lambda x: linear_classifer.softmax_with_cross_entropy(x, target_index), predictions)\n",
    "\n",
    "# Make sure maximum subtraction for numberic stability is done separately for every sample in the batch\n",
    "probs = linear_classifer.softmax(np.array([[20,0,0], [1000, 0, 0]]))\n",
    "assert np.all(np.isclose(probs[:, 0], 1.0))"
   ]
  },
  {
   "cell_type": "markdown",
   "metadata": {},
   "source": [
    "### Наконец, реализуем сам линейный классификатор!\n",
    "\n",
    "softmax и cross-entropy получают на вход оценки, которые выдает линейный классификатор.\n",
    "\n",
    "Он делает это очень просто: для каждого класса есть набор весов, на которые надо умножить пиксели картинки и сложить. Получившееся число и является оценкой класса, идущей на вход softmax.\n",
    "\n",
    "Таким образом, линейный классификатор можно представить как умножение вектора с пикселями на матрицу W размера `num_features, num_classes`. Такой подход легко расширяется на случай батча векторов с пикселями X размера `batch_size, num_features`:\n",
    "\n",
    "`predictions = X * W`, где `*` - матричное умножение.\n",
    "\n",
    "Реализуйте функцию подсчета линейного классификатора и градиентов по весам `linear_softmax` в файле `linear_classifer.py`"
   ]
  },
  {
   "cell_type": "code",
   "execution_count": 9,
   "metadata": {},
   "outputs": [
    {
     "name": "stdout",
     "output_type": "stream",
     "text": [
      "Gradient check passed!\n"
     ]
    },
    {
     "data": {
      "text/plain": [
       "True"
      ]
     },
     "execution_count": 9,
     "metadata": {},
     "output_type": "execute_result"
    }
   ],
   "source": [
    "# TODO Implement linear_softmax function that uses softmax with cross-entropy for linear classifier\n",
    "batch_size = 2\n",
    "num_classes = 2\n",
    "num_features = 3\n",
    "np.random.seed(42)\n",
    "W = np.random.randint(-1, 3, size=(num_features, num_classes)).astype(float)\n",
    "X = np.random.randint(-1, 3, size=(batch_size, num_features)).astype(float)\n",
    "target_index = np.ones(batch_size, dtype=int)\n",
    "\n",
    "loss, dW = linear_classifer.linear_softmax(X, W, target_index)\n",
    "check_gradient(lambda w: linear_classifer.linear_softmax(X, w, target_index), W)"
   ]
  },
  {
   "cell_type": "markdown",
   "metadata": {},
   "source": [
    "### И теперь регуляризация\n",
    "\n",
    "Мы будем использовать L2 regularization для весов как часть общей функции ошибки.\n",
    "\n",
    "Напомним, L2 regularization определяется как\n",
    "\n",
    "l2_reg_loss = regularization_strength * sum<sub>ij</sub> W[i, j]<sup>2</sup>\n",
    "\n",
    "Реализуйте функцию для его вычисления и вычисления соотвествующих градиентов."
   ]
  },
  {
   "cell_type": "code",
   "execution_count": 10,
   "metadata": {},
   "outputs": [
    {
     "name": "stdout",
     "output_type": "stream",
     "text": [
      "Gradient check passed!\n"
     ]
    },
    {
     "data": {
      "text/plain": [
       "True"
      ]
     },
     "execution_count": 10,
     "metadata": {},
     "output_type": "execute_result"
    }
   ],
   "source": [
    "# TODO Implement l2_regularization function that implements loss for L2 regularization\n",
    "linear_classifer.l2_regularization(W, 0.01)\n",
    "check_gradient(lambda w: linear_classifer.l2_regularization(w, 0.01), W)"
   ]
  },
  {
   "cell_type": "markdown",
   "metadata": {},
   "source": [
    "# Тренировка!"
   ]
  },
  {
   "cell_type": "markdown",
   "metadata": {},
   "source": [
    "Градиенты в порядке, реализуем процесс тренировки!"
   ]
  },
  {
   "cell_type": "code",
   "execution_count": 11,
   "metadata": {
    "scrolled": false
   },
   "outputs": [
    {
     "name": "stdout",
     "output_type": "stream",
     "text": [
      "Epoch 0, loss: 74.520456\n",
      "Epoch 1, loss: 70.681506\n",
      "Epoch 2, loss: 69.539368\n",
      "Epoch 3, loss: 69.198701\n",
      "Epoch 4, loss: 69.098910\n",
      "Epoch 5, loss: 69.069113\n",
      "Epoch 6, loss: 69.059731\n",
      "Epoch 7, loss: 69.056957\n",
      "Epoch 8, loss: 69.056435\n",
      "Epoch 9, loss: 69.055701\n"
     ]
    }
   ],
   "source": [
    "# TODO: Implement LinearSoftmaxClassifier.fit function\n",
    "classifier = linear_classifer.LinearSoftmaxClassifier()\n",
    "loss_history = classifier.fit(train_X, train_y, epochs=10, learning_rate=1e-3, batch_size=300, reg=1e1)"
   ]
  },
  {
   "cell_type": "code",
   "execution_count": 12,
   "metadata": {},
   "outputs": [
    {
     "data": {
      "text/plain": [
       "[<matplotlib.lines.Line2D at 0x7f017f2e5100>]"
      ]
     },
     "execution_count": 12,
     "metadata": {},
     "output_type": "execute_result"
    },
    {
     "data": {
      "image/png": "[encoded data removed]",
      "text/plain": [
       "<Figure size 432x288 with 1 Axes>"
      ]
     },
     "metadata": {
      "needs_background": "light"
     },
     "output_type": "display_data"
    }
   ],
   "source": [
    "# let's look at the loss history!\n",
    "plt.plot(loss_history)"
   ]
  },
  {
   "cell_type": "code",
   "execution_count": 13,
   "metadata": {},
   "outputs": [
    {
     "name": "stdout",
     "output_type": "stream",
     "text": [
      "Accuracy:  0.127\n",
      "Epoch 0, loss: 69.056697\n",
      "Epoch 1, loss: 69.055977\n",
      "Epoch 2, loss: 69.055032\n",
      "Epoch 3, loss: 69.056208\n",
      "Epoch 4, loss: 69.056751\n",
      "Epoch 5, loss: 69.055909\n",
      "Epoch 6, loss: 69.056405\n",
      "Epoch 7, loss: 69.055322\n",
      "Epoch 8, loss: 69.056347\n",
      "Epoch 9, loss: 69.056075\n",
      "Epoch 10, loss: 69.055744\n",
      "Epoch 11, loss: 69.055574\n",
      "Epoch 12, loss: 69.056596\n",
      "Epoch 13, loss: 69.056008\n",
      "Epoch 14, loss: 69.056044\n",
      "Epoch 15, loss: 69.055976\n",
      "Epoch 16, loss: 69.056178\n",
      "Epoch 17, loss: 69.055901\n",
      "Epoch 18, loss: 69.056016\n",
      "Epoch 19, loss: 69.056420\n",
      "Epoch 20, loss: 69.055473\n",
      "Epoch 21, loss: 69.055914\n",
      "Epoch 22, loss: 69.055457\n",
      "Epoch 23, loss: 69.056092\n",
      "Epoch 24, loss: 69.056072\n",
      "Epoch 25, loss: 69.055710\n",
      "Epoch 26, loss: 69.056324\n",
      "Epoch 27, loss: 69.056019\n",
      "Epoch 28, loss: 69.055480\n",
      "Epoch 29, loss: 69.055614\n",
      "Epoch 30, loss: 69.055862\n",
      "Epoch 31, loss: 69.055856\n",
      "Epoch 32, loss: 69.055581\n",
      "Epoch 33, loss: 69.056298\n",
      "Epoch 34, loss: 69.055976\n",
      "Epoch 35, loss: 69.055957\n",
      "Epoch 36, loss: 69.055739\n",
      "Epoch 37, loss: 69.055523\n",
      "Epoch 38, loss: 69.056148\n",
      "Epoch 39, loss: 69.055775\n",
      "Epoch 40, loss: 69.055971\n",
      "Epoch 41, loss: 69.055733\n",
      "Epoch 42, loss: 69.055881\n",
      "Epoch 43, loss: 69.056020\n",
      "Epoch 44, loss: 69.055919\n",
      "Epoch 45, loss: 69.056152\n",
      "Epoch 46, loss: 69.056038\n",
      "Epoch 47, loss: 69.056491\n",
      "Epoch 48, loss: 69.056111\n",
      "Epoch 49, loss: 69.055751\n",
      "Epoch 50, loss: 69.055694\n",
      "Epoch 51, loss: 69.055937\n",
      "Epoch 52, loss: 69.056092\n",
      "Epoch 53, loss: 69.056098\n",
      "Epoch 54, loss: 69.055889\n",
      "Epoch 55, loss: 69.055420\n",
      "Epoch 56, loss: 69.056183\n",
      "Epoch 57, loss: 69.056154\n",
      "Epoch 58, loss: 69.056039\n",
      "Epoch 59, loss: 69.055520\n",
      "Epoch 60, loss: 69.055810\n",
      "Epoch 61, loss: 69.055766\n",
      "Epoch 62, loss: 69.055997\n",
      "Epoch 63, loss: 69.055936\n",
      "Epoch 64, loss: 69.056141\n",
      "Epoch 65, loss: 69.056061\n",
      "Epoch 66, loss: 69.055447\n",
      "Epoch 67, loss: 69.055796\n",
      "Epoch 68, loss: 69.055908\n",
      "Epoch 69, loss: 69.055806\n",
      "Epoch 70, loss: 69.055915\n",
      "Epoch 71, loss: 69.056197\n",
      "Epoch 72, loss: 69.055538\n",
      "Epoch 73, loss: 69.056144\n",
      "Epoch 74, loss: 69.056657\n",
      "Epoch 75, loss: 69.056072\n",
      "Epoch 76, loss: 69.056305\n",
      "Epoch 77, loss: 69.056125\n",
      "Epoch 78, loss: 69.055929\n",
      "Epoch 79, loss: 69.055991\n",
      "Epoch 80, loss: 69.056129\n",
      "Epoch 81, loss: 69.056026\n",
      "Epoch 82, loss: 69.055872\n",
      "Epoch 83, loss: 69.055566\n",
      "Epoch 84, loss: 69.056292\n",
      "Epoch 85, loss: 69.055667\n",
      "Epoch 86, loss: 69.056039\n",
      "Epoch 87, loss: 69.055940\n",
      "Epoch 88, loss: 69.055893\n",
      "Epoch 89, loss: 69.056344\n",
      "Epoch 90, loss: 69.055927\n",
      "Epoch 91, loss: 69.056176\n",
      "Epoch 92, loss: 69.055844\n",
      "Epoch 93, loss: 69.056162\n",
      "Epoch 94, loss: 69.056508\n",
      "Epoch 95, loss: 69.056314\n",
      "Epoch 96, loss: 69.056098\n",
      "Epoch 97, loss: 69.056085\n",
      "Epoch 98, loss: 69.056947\n",
      "Epoch 99, loss: 69.055872\n",
      "Accuracy after training for 100 epochs:  0.121\n"
     ]
    }
   ],
   "source": [
    "# Let's check how it performs on validation set\n",
    "pred = classifier.predict(val_X)\n",
    "accuracy = multiclass_accuracy(pred, val_y)\n",
    "print(\"Accuracy: \", accuracy)\n",
    "\n",
    "# Now, let's train more and see if it performs better\n",
    "classifier.fit(train_X, train_y, epochs=100, learning_rate=1e-3, batch_size=300, reg=1e1)\n",
    "pred = classifier.predict(val_X)\n",
    "accuracy = multiclass_accuracy(pred, val_y)\n",
    "print(\"Accuracy after training for 100 epochs: \", accuracy)"
   ]
  },
  {
   "cell_type": "markdown",
   "metadata": {},
   "source": [
    "### Как и раньше, используем кросс-валидацию для подбора гиперпараметтов.\n",
    "\n",
    "В этот раз, чтобы тренировка занимала разумное время, мы будем использовать только одно разделение на тренировочные (training) и проверочные (validation) данные.\n",
    "\n",
    "Теперь нам нужно подобрать не один, а два гиперпараметра! Не ограничивайте себя изначальными значениями в коде.  \n",
    "Добейтесь точности более чем **20%** на проверочных данных (validation data)."
   ]
  },
  {
   "cell_type": "code",
   "execution_count": 14,
   "metadata": {},
   "outputs": [
    {
     "name": "stdout",
     "output_type": "stream",
     "text": [
      "Epoch 0, loss: 68.516531\n",
      "Epoch 1, loss: 67.128173\n",
      "Epoch 2, loss: 66.367865\n",
      "Epoch 3, loss: 65.959632\n",
      "Epoch 4, loss: 65.587830\n",
      "Epoch 5, loss: 65.347934\n",
      "Epoch 6, loss: 65.236007\n",
      "Epoch 7, loss: 65.206572\n",
      "Epoch 8, loss: 65.117671\n",
      "Epoch 9, loss: 64.999154\n",
      "Epoch 10, loss: 64.887117\n",
      "Epoch 11, loss: 64.866915\n",
      "Epoch 12, loss: 64.795692\n",
      "Epoch 13, loss: 64.783893\n",
      "Epoch 14, loss: 64.715184\n",
      "Epoch 15, loss: 64.729664\n",
      "Epoch 16, loss: 64.697742\n",
      "Epoch 17, loss: 64.636849\n",
      "Epoch 18, loss: 64.693359\n",
      "Epoch 19, loss: 64.655103\n",
      "Learning rate = 0.100000\n",
      "Reg strength = 0.005000\n",
      "Accuracy = 0.242000\n",
      "Epoch 0, loss: 68.452380\n",
      "Epoch 1, loss: 67.009559\n",
      "Epoch 2, loss: 66.248181\n",
      "Epoch 3, loss: 65.801531\n",
      "Epoch 4, loss: 65.443417\n",
      "Epoch 5, loss: 65.277324\n",
      "Epoch 6, loss: 64.944255\n",
      "Epoch 7, loss: 64.823900\n",
      "Epoch 8, loss: 64.701039\n",
      "Epoch 9, loss: 64.501984\n",
      "Epoch 10, loss: 64.433193\n",
      "Epoch 11, loss: 64.442496\n",
      "Epoch 12, loss: 64.315155\n",
      "Epoch 13, loss: 64.268501\n",
      "Epoch 14, loss: 64.220498\n",
      "Epoch 15, loss: 64.124356\n",
      "Epoch 16, loss: 64.150802\n",
      "Epoch 17, loss: 64.041165\n",
      "Epoch 18, loss: 64.039982\n",
      "Epoch 19, loss: 63.937060\n",
      "Learning rate = 0.100000\n",
      "Reg strength = 0.002000\n",
      "Accuracy = 0.255000\n",
      "Epoch 0, loss: 68.477773\n",
      "Epoch 1, loss: 67.018708\n",
      "Epoch 2, loss: 66.237458\n",
      "Epoch 3, loss: 65.781348\n",
      "Epoch 4, loss: 65.343971\n",
      "Epoch 5, loss: 65.069298\n",
      "Epoch 6, loss: 64.932090\n",
      "Epoch 7, loss: 64.649729\n",
      "Epoch 8, loss: 64.574217\n",
      "Epoch 9, loss: 64.518932\n",
      "Epoch 10, loss: 64.366139\n",
      "Epoch 11, loss: 64.348776\n",
      "Epoch 12, loss: 64.132020\n",
      "Epoch 13, loss: 64.130773\n",
      "Epoch 14, loss: 64.001568\n",
      "Epoch 15, loss: 63.987343\n",
      "Epoch 16, loss: 63.905458\n",
      "Epoch 17, loss: 63.837954\n",
      "Epoch 18, loss: 63.859282\n",
      "Epoch 19, loss: 63.697910\n",
      "Learning rate = 0.100000\n",
      "Reg strength = 0.001000\n",
      "Accuracy = 0.232000\n",
      "Epoch 0, loss: 68.416734\n",
      "Epoch 1, loss: 67.016371\n",
      "Epoch 2, loss: 66.214515\n",
      "Epoch 3, loss: 65.652013\n",
      "Epoch 4, loss: 65.309956\n",
      "Epoch 5, loss: 65.035414\n",
      "Epoch 6, loss: 64.779968\n",
      "Epoch 7, loss: 64.538242\n",
      "Epoch 8, loss: 64.482128\n",
      "Epoch 9, loss: 64.352953\n",
      "Epoch 10, loss: 64.275377\n",
      "Epoch 11, loss: 64.124960\n",
      "Epoch 12, loss: 64.089589\n",
      "Epoch 13, loss: 63.906787\n",
      "Epoch 14, loss: 63.911274\n",
      "Epoch 15, loss: 63.749692\n",
      "Epoch 16, loss: 63.766924\n",
      "Epoch 17, loss: 63.626341\n",
      "Epoch 18, loss: 63.636833\n",
      "Epoch 19, loss: 63.518085\n",
      "Learning rate = 0.100000\n",
      "Reg strength = 0.000200\n",
      "Accuracy = 0.241000\n",
      "Epoch 0, loss: 68.706254\n",
      "Epoch 1, loss: 67.800424\n",
      "Epoch 2, loss: 67.085427\n",
      "Epoch 3, loss: 66.583479\n",
      "Epoch 4, loss: 66.255289\n",
      "Epoch 5, loss: 65.992708\n",
      "Epoch 6, loss: 65.745608\n",
      "Epoch 7, loss: 65.563032\n",
      "Epoch 8, loss: 65.437028\n",
      "Epoch 9, loss: 65.307913\n",
      "Epoch 10, loss: 65.245047\n",
      "Epoch 11, loss: 65.150977\n",
      "Epoch 12, loss: 65.025671\n",
      "Epoch 13, loss: 64.990997\n",
      "Epoch 14, loss: 64.907864\n",
      "Epoch 15, loss: 64.847050\n",
      "Epoch 16, loss: 64.847283\n",
      "Epoch 17, loss: 64.759408\n",
      "Epoch 18, loss: 64.738677\n",
      "Epoch 19, loss: 64.681727\n",
      "Learning rate = 0.050000\n",
      "Reg strength = 0.005000\n",
      "Accuracy = 0.235000\n",
      "Epoch 0, loss: 68.691570\n",
      "Epoch 1, loss: 67.752345\n",
      "Epoch 2, loss: 67.104696\n",
      "Epoch 3, loss: 66.539589\n",
      "Epoch 4, loss: 66.123616\n",
      "Epoch 5, loss: 65.852612\n",
      "Epoch 6, loss: 65.586895\n",
      "Epoch 7, loss: 65.411337\n",
      "Epoch 8, loss: 65.214464\n",
      "Epoch 9, loss: 65.094371\n",
      "Epoch 10, loss: 64.966899\n",
      "Epoch 11, loss: 64.876021\n",
      "Epoch 12, loss: 64.786663\n",
      "Epoch 13, loss: 64.708743\n",
      "Epoch 14, loss: 64.602137\n",
      "Epoch 15, loss: 64.550249\n",
      "Epoch 16, loss: 64.485466\n",
      "Epoch 17, loss: 64.426453\n",
      "Epoch 18, loss: 64.333001\n",
      "Epoch 19, loss: 64.302696\n",
      "Learning rate = 0.050000\n",
      "Reg strength = 0.002000\n",
      "Accuracy = 0.246000\n",
      "Epoch 0, loss: 68.679777\n",
      "Epoch 1, loss: 67.713269\n",
      "Epoch 2, loss: 67.019755\n",
      "Epoch 3, loss: 66.521102\n",
      "Epoch 4, loss: 66.137854\n",
      "Epoch 5, loss: 65.817392\n",
      "Epoch 6, loss: 65.573590\n",
      "Epoch 7, loss: 65.317930\n",
      "Epoch 8, loss: 65.176998\n",
      "Epoch 9, loss: 65.021756\n",
      "Epoch 10, loss: 64.880284\n",
      "Epoch 11, loss: 64.750269\n",
      "Epoch 12, loss: 64.668834\n",
      "Epoch 13, loss: 64.569917\n",
      "Epoch 14, loss: 64.554945\n",
      "Epoch 15, loss: 64.427800\n",
      "Epoch 16, loss: 64.352510\n",
      "Epoch 17, loss: 64.272001\n",
      "Epoch 18, loss: 64.252849\n",
      "Epoch 19, loss: 64.156145\n",
      "Learning rate = 0.050000\n",
      "Reg strength = 0.001000\n",
      "Accuracy = 0.231000\n",
      "Epoch 0, loss: 68.701917\n",
      "Epoch 1, loss: 67.727250\n",
      "Epoch 2, loss: 67.013182\n",
      "Epoch 3, loss: 66.501940\n",
      "Epoch 4, loss: 66.103679\n",
      "Epoch 5, loss: 65.771261\n",
      "Epoch 6, loss: 65.512010\n",
      "Epoch 7, loss: 65.307765\n",
      "Epoch 8, loss: 65.094881\n",
      "Epoch 9, loss: 64.968182\n",
      "Epoch 10, loss: 64.833521\n",
      "Epoch 11, loss: 64.714455\n",
      "Epoch 12, loss: 64.631108\n",
      "Epoch 13, loss: 64.506378\n",
      "Epoch 14, loss: 64.399550\n",
      "Epoch 15, loss: 64.305298\n",
      "Epoch 16, loss: 64.217224\n",
      "Epoch 17, loss: 64.188811\n",
      "Epoch 18, loss: 64.114672\n",
      "Epoch 19, loss: 64.074036\n",
      "Learning rate = 0.050000\n",
      "Reg strength = 0.000200\n",
      "Accuracy = 0.240000\n",
      "Epoch 0, loss: 68.994152\n",
      "Epoch 1, loss: 68.744387\n",
      "Epoch 2, loss: 68.506391\n",
      "Epoch 3, loss: 68.286875\n",
      "Epoch 4, loss: 68.096127\n",
      "Epoch 5, loss: 67.910497\n",
      "Epoch 6, loss: 67.742240\n",
      "Epoch 7, loss: 67.584013\n",
      "Epoch 8, loss: 67.432905\n",
      "Epoch 9, loss: 67.291627\n",
      "Epoch 10, loss: 67.149363\n",
      "Epoch 11, loss: 67.040043\n",
      "Epoch 12, loss: 66.920330\n",
      "Epoch 13, loss: 66.813314\n",
      "Epoch 14, loss: 66.711576\n",
      "Epoch 15, loss: 66.616581\n",
      "Epoch 16, loss: 66.520870\n",
      "Epoch 17, loss: 66.436515\n",
      "Epoch 18, loss: 66.352099\n",
      "Epoch 19, loss: 66.274933\n",
      "Learning rate = 0.010000\n",
      "Reg strength = 0.005000\n",
      "Accuracy = 0.225000\n",
      "Epoch 0, loss: 68.994047\n",
      "Epoch 1, loss: 68.735236\n",
      "Epoch 2, loss: 68.501822\n",
      "Epoch 3, loss: 68.286366\n",
      "Epoch 4, loss: 68.088740\n",
      "Epoch 5, loss: 67.897007\n",
      "Epoch 6, loss: 67.730279\n",
      "Epoch 7, loss: 67.561885\n",
      "Epoch 8, loss: 67.404335\n",
      "Epoch 9, loss: 67.266175\n",
      "Epoch 10, loss: 67.126659\n",
      "Epoch 11, loss: 66.998806\n",
      "Epoch 12, loss: 66.880408\n",
      "Epoch 13, loss: 66.761136\n",
      "Epoch 14, loss: 66.653657\n",
      "Epoch 15, loss: 66.552445\n",
      "Epoch 16, loss: 66.459402\n",
      "Epoch 17, loss: 66.362882\n",
      "Epoch 18, loss: 66.281667\n",
      "Epoch 19, loss: 66.197714\n",
      "Learning rate = 0.010000\n",
      "Reg strength = 0.002000\n",
      "Accuracy = 0.229000\n",
      "Epoch 0, loss: 68.991844\n",
      "Epoch 1, loss: 68.733713\n",
      "Epoch 2, loss: 68.495152\n",
      "Epoch 3, loss: 68.283807\n",
      "Epoch 4, loss: 68.085428\n",
      "Epoch 5, loss: 67.890733\n",
      "Epoch 6, loss: 67.721255\n",
      "Epoch 7, loss: 67.554111\n",
      "Epoch 8, loss: 67.401160\n",
      "Epoch 9, loss: 67.253606\n",
      "Epoch 10, loss: 67.113280\n",
      "Epoch 11, loss: 66.989386\n",
      "Epoch 12, loss: 66.862650\n",
      "Epoch 13, loss: 66.747677\n",
      "Epoch 14, loss: 66.641324\n",
      "Epoch 15, loss: 66.537219\n",
      "Epoch 16, loss: 66.436952\n",
      "Epoch 17, loss: 66.345114\n",
      "Epoch 18, loss: 66.252106\n",
      "Epoch 19, loss: 66.176351\n",
      "Learning rate = 0.010000\n",
      "Reg strength = 0.001000\n",
      "Accuracy = 0.230000\n",
      "Epoch 0, loss: 68.987834\n",
      "Epoch 1, loss: 68.735762\n",
      "Epoch 2, loss: 68.505390\n",
      "Epoch 3, loss: 68.285486\n",
      "Epoch 4, loss: 68.078525\n",
      "Epoch 5, loss: 67.898820\n",
      "Epoch 6, loss: 67.721337\n",
      "Epoch 7, loss: 67.544416\n",
      "Epoch 8, loss: 67.392899\n",
      "Epoch 9, loss: 67.247582\n",
      "Epoch 10, loss: 67.098040\n",
      "Epoch 11, loss: 66.975976\n",
      "Epoch 12, loss: 66.850752\n",
      "Epoch 13, loss: 66.735733\n",
      "Epoch 14, loss: 66.621641\n",
      "Epoch 15, loss: 66.518863\n",
      "Epoch 16, loss: 66.421166\n",
      "Epoch 17, loss: 66.321496\n",
      "Epoch 18, loss: 66.233603\n",
      "Epoch 19, loss: 66.148253\n",
      "Learning rate = 0.010000\n",
      "Reg strength = 0.000200\n",
      "Accuracy = 0.223000\n",
      "best validation accuracy achieved: 0.255000\n"
     ]
    }
   ],
   "source": [
    "num_epochs = 20\n",
    "batch_size = 300\n",
    "\n",
    "# learning_rates = [1e-3, 1e-4, 1e-5]\n",
    "# reg_strengths = [1e-4, 1e-5, 1e-6]\n",
    "\n",
    "best_classifier = linear_classifer.LinearSoftmaxClassifier()\n",
    "best_val_accuracy = 0\n",
    "\n",
    "learning_rates = [1e-1, 5e-2, 1e-2]\n",
    "reg_strengths = [5e-3, 2e-3, 1e-3, 2e-4]\n",
    "\n",
    "for lr in learning_rates:\n",
    "    for rs in reg_strengths:\n",
    "        classifier = linear_classifer.LinearSoftmaxClassifier()\n",
    "        classifier.fit(train_X, train_y, epochs=num_epochs, learning_rate=lr, batch_size=batch_size, reg=rs)\n",
    "        pred = classifier.predict(val_X)\n",
    "        accuracy = multiclass_accuracy(pred, val_y)\n",
    "        print('Learning rate = %f' % lr, flush=True)\n",
    "        print('Reg strength = %f' % rs, flush=True)\n",
    "        print(\"Accuracy = %f\" % accuracy, flush=True)\n",
    "        if best_val_accuracy < accuracy:\n",
    "            best_val_accuracy = accuracy\n",
    "            best_classifier = classifier\n",
    "print('best validation accuracy achieved: %f' % best_val_accuracy)"
   ]
  },
  {
   "cell_type": "markdown",
   "metadata": {},
   "source": [
    "# Какой же точности мы добились на тестовых данных?"
   ]
  },
  {
   "cell_type": "code",
   "execution_count": 15,
   "metadata": {},
   "outputs": [
    {
     "name": "stdout",
     "output_type": "stream",
     "text": [
      "Linear softmax classifier test set accuracy: 0.209000\n"
     ]
    }
   ],
   "source": [
    "test_pred = best_classifier.predict(test_X)\n",
    "test_accuracy = multiclass_accuracy(test_pred, test_y)\n",
    "print('Linear softmax classifier test set accuracy: %f' % (test_accuracy, ))"
   ]
  }
 ],
 "metadata": {
  "interpreter": {
   "hash": "916dbcbb3f70747c44a77c7bcd40155683ae19c65e1c03b4aa3499c5328201f1"
  },
  "kernelspec": {
   "display_name": "Python 3.8.10 64-bit",
   "language": "python",
   "name": "python3"
  },
  "language_info": {
   "codemirror_mode": {
    "name": "ipython",
    "version": 3
   },
   "file_extension": ".py",
   "mimetype": "text/x-python",
   "name": "python",
   "nbconvert_exporter": "python",
   "pygments_lexer": "ipython3",
   "version": "3.8.10"
  }
 },
 "nbformat": 4,
 "nbformat_minor": 2
}
